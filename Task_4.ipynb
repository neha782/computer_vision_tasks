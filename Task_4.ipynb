{
 "cells": [
  {
   "cell_type": "code",
   "execution_count": 1,
   "id": "78156a54",
   "metadata": {},
   "outputs": [],
   "source": [
    "import cv2\n",
    "import numpy as np"
   ]
  },
  {
   "cell_type": "code",
   "execution_count": 2,
   "id": "62e24d2b",
   "metadata": {},
   "outputs": [],
   "source": [
    "# Task 4.1 : image ceartion\n",
    "image= np.zeros((800,800,3))\n",
    " "
   ]
  },
  {
   "cell_type": "code",
   "execution_count": 3,
   "id": "7a1d1152",
   "metadata": {},
   "outputs": [],
   "source": [
    "\n",
    "cv2.rectangle(image, (200,300), (700,700),(215,215,0),-1)\n",
    "pts = [(200,300),(450,0),(700,300)]\n",
    "cv2.polylines(image,np.array([pts]), True,(192,192,255),5)\n",
    "cv2.fillPoly(image,np.array([pts]),(192,192,255))\n",
    "cv2.rectangle(image,(350,400),(550,700),(0,0,255),-1)\n",
    "cv2.circle(image,(360,550), 7, (0,0,0), -1)\n",
    "\n",
    "cv2.imshow(\"img\",image)\n",
    "cv2.waitKey()\n",
    "cv2.destroyAllWindows()\n"
   ]
  },
  {
   "cell_type": "code",
   "execution_count": null,
   "id": "7f56a12b",
   "metadata": {},
   "outputs": [],
   "source": []
  }
 ],
 "metadata": {
  "kernelspec": {
   "display_name": "Python 3",
   "language": "python",
   "name": "python3"
  },
  "language_info": {
   "codemirror_mode": {
    "name": "ipython",
    "version": 3
   },
   "file_extension": ".py",
   "mimetype": "text/x-python",
   "name": "python",
   "nbconvert_exporter": "python",
   "pygments_lexer": "ipython3",
   "version": "3.8.8"
  }
 },
 "nbformat": 4,
 "nbformat_minor": 5
}
